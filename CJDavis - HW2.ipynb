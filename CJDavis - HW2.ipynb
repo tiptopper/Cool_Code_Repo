{
 "cells": [
  {
   "cell_type": "markdown",
   "metadata": {},
   "source": [
    "## 2301 HW #2 \n",
    "\n",
    "Collaboration: It is OK to work on this homework with one partner. If you work with a partner, you must list the partner on this assignment."
   ]
  },
  {
   "cell_type": "code",
   "execution_count": 1,
   "metadata": {},
   "outputs": [
    {
     "ename": "SyntaxError",
     "evalue": "invalid syntax (<ipython-input-1-9e6d19ca5c15>, line 4)",
     "output_type": "error",
     "traceback": [
      "\u001b[1;36m  File \u001b[1;32m\"<ipython-input-1-9e6d19ca5c15>\"\u001b[1;36m, line \u001b[1;32m4\u001b[0m\n\u001b[1;33m    Recall that vector addition is defined as $\\mathbf{x} + \\mathbf{y} = <x_1 + y_1, x_2 + y_2,  ... x_N + y_N>$.\u001b[0m\n\u001b[1;37m           ^\u001b[0m\n\u001b[1;31mSyntaxError\u001b[0m\u001b[1;31m:\u001b[0m invalid syntax\n"
     ]
    }
   ],
   "source": [
    "### Part 1: Math\n",
    "\n",
    "#### Question 1.1\n",
    "Recall that vector addition is defined as $\\mathbf{x} + \\mathbf{y} = <x_1 + y_1, x_2 + y_2,  ... x_N + y_N>$. "
   ]
  },
  {
   "cell_type": "markdown",
   "metadata": {},
   "source": [
    "Let $\\mathbf{m}$ = <1,-2,4> and $\\mathbf{n}$ = <0,7,1>. What is $\\mathbf{n}$ +  $\\mathbf{m}$? "
   ]
  },
  {
   "cell_type": "code",
   "execution_count": null,
   "metadata": {},
   "outputs": [],
   "source": [
    "    m = [1,-2,4]\n",
    "    n = [0,7,1]\n",
    "    out = []\n",
    "    for i in range(len(m)):\n",
    "        out.append(m[i] + n[i])\n",
    "     \n",
    "    print(\"m + n = \" + str(out))"
   ]
  },
  {
   "cell_type": "markdown",
   "metadata": {},
   "source": [
    "$\\mathbf{m} + \\mathbf{n} =  <1, 5, 5>$"
   ]
  },
  {
   "cell_type": "markdown",
   "metadata": {},
   "source": [
    "#### Question 1.2\n",
    "\n",
    "The Jaccard index between sets $A$ and $B$ is defined as $\\frac{\\vert A \\cap B \\vert}{\\vert A \\cup B \\vert}$. If $A={1,2,3}$ and $B={3,4,5}$ what is their Jaccard index?"
   ]
  },
  {
   "cell_type": "code",
   "execution_count": null,
   "metadata": {},
   "outputs": [],
   "source": [
    "# A = <3>\n",
    "# B = <1,2,3,4,5,6>\n",
    "# Ji = 1/5 = .2\n",
    "\n",
    "𝐴={1,2,3}\n",
    "𝐵={3,4,5}\n",
    "\n",
    "a1 = A.union(B)\n",
    "b1 = A.intersection(B) \n",
    "aCard = len(a1)\n",
    "bCard = len(b1)\n",
    "jaccardIndex = bCard/aCard\n",
    "jaccardIndex"
   ]
  },
  {
   "cell_type": "markdown",
   "metadata": {},
   "source": [
    "$\\frac{\\vert A \\cap B \\vert}{\\vert A \\cup B \\vert} = .2$"
   ]
  },
  {
   "cell_type": "markdown",
   "metadata": {},
   "source": [
    "#### Question 1.3\n",
    "\n",
    "When is the Jaccard index equal to one? "
   ]
  },
  {
   "cell_type": "code",
   "execution_count": null,
   "metadata": {},
   "outputs": [],
   "source": [
    "# when two sets have the identical components.  Then, the cardinality of the union and the intersection is the same "
   ]
  },
  {
   "cell_type": "markdown",
   "metadata": {},
   "source": [
    " \n",
    "#### Question 1.4\n",
    "\n",
    "When is the Jaccard index equal to zero? "
   ]
  },
  {
   "cell_type": "code",
   "execution_count": 2,
   "metadata": {},
   "outputs": [],
   "source": [
    "# When the two sets have nothing in common. Then, the intersection would be 0"
   ]
  },
  {
   "cell_type": "markdown",
   "metadata": {},
   "source": [
    " \n",
    "#### Question 1.5\n",
    "\n",
    "If two sets are nearly identical, will their Jaccard Index be closer to zero or closer to one? Explain your answer. "
   ]
  },
  {
   "cell_type": "code",
   "execution_count": 3,
   "metadata": {},
   "outputs": [],
   "source": [
    "# the closer the two sets get to identical,  the closer their Jaccard Index will be to 1.   \n",
    "# The fraction that results from the intersection (numerator) getting closer (approaching) to the\n",
    "# denominator (union) (or vice-versa) gets closer to 1:1 "
   ]
  },
  {
   "cell_type": "markdown",
   "metadata": {},
   "source": [
    "### Part 2: Code\n",
    "\n",
    "Implement the jaccard function from the file `hw2part2.py` and load it into this notebook by running the next cell. You will need to have `hw2part2.py` in the same folder on your computer as this notebook for this to work."
   ]
  },
  {
   "cell_type": "code",
   "execution_count": 4,
   "metadata": {},
   "outputs": [],
   "source": [
    "from hw2part2 import jaccardIndex  # this will load the function from the file hw2part2.py"
   ]
  },
  {
   "cell_type": "markdown",
   "metadata": {},
   "source": [
    "Implementing $\\vert A \\cap B \\vert / \\vert A \\cup B \\vert$"
   ]
  },
  {
   "cell_type": "code",
   "execution_count": 5,
   "metadata": {},
   "outputs": [
    {
     "name": "stdout",
     "output_type": "stream",
     "text": [
      "0.2\n"
     ]
    }
   ],
   "source": [
    "𝐴={1,2,3}\n",
    "𝐵={3,4,5}\n",
    "jIndex = jaccardIndex(A,B)\n",
    "print(jIndex)"
   ]
  },
  {
   "cell_type": "markdown",
   "metadata": {},
   "source": [
    "### Part 3: Applications\n",
    "\n",
    "Imagine there are four DoorDash customers, $A,B,C$. We can represent each customer with the set of all of their prior orders, shown below.\n",
    "\n",
    "- A = $\\{hamburger, hot dog, pizza, french fries, donut, salad, bacon\\}$\n",
    "- B = $\\{cheesburger, pizza, donut, hamburger, onion rings, french fries, donut\\}$\n",
    "- C = $\\{salad, fruit cup, smoothie \\}$"
   ]
  },
  {
   "cell_type": "markdown",
   "metadata": {},
   "source": [
    "### Question\n",
    "\n",
    "#### Question 3.1\n",
    "Which two customers do you think are most similar? Why do you think that? Answer using words \n",
    "\n",
    "#### Question 3.2\n",
    "Compute the Jaccard index between each pair of customers using the jaccardIndex function you wrote in the file `hw2part2`.\n",
    "\n",
    "That means, compute the Jaccard index between $A$ and $B$, between $A$ and $C$, and between $B$ and $C$. Answer using code below."
   ]
  },
  {
   "cell_type": "code",
   "execution_count": 6,
   "metadata": {},
   "outputs": [],
   "source": [
    "## Use your jaccardIndex function to compare each customer. There is a little code to help you get started.\n",
    "\n",
    "A = {'hamburger', 'hot dog', 'pizza', 'french fries', 'donut', 'salad', 'bacon'}\n",
    "B = {'cheesburger', 'pizza', 'donut', 'hamburger', 'onion rings', 'french fries', 'donut'}\n",
    "C = {'salad', 'fruit cup', 'smoothie'}\n",
    "\n",
    "customers = [A, B, C]\n",
    "\n",
    "for customer in customers:\n",
    "    pass"
   ]
  },
  {
   "cell_type": "markdown",
   "metadata": {},
   "source": [
    "\n",
    "#### Question 3.3\n",
    "Based on your code, which pair of customers has the highest Jaccard index? Explain why that makes sense."
   ]
  }
 ],
 "metadata": {
  "kernelspec": {
   "display_name": "Python 3",
   "language": "python",
   "name": "python3"
  },
  "language_info": {
   "codemirror_mode": {
    "name": "ipython",
    "version": 3
   },
   "file_extension": ".py",
   "mimetype": "text/x-python",
   "name": "python",
   "nbconvert_exporter": "python",
   "pygments_lexer": "ipython3",
   "version": "3.8.5"
  }
 },
 "nbformat": 4,
 "nbformat_minor": 4
}
